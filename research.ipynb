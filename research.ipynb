{
 "cells": [
  {
   "cell_type": "code",
   "source": [
    "import math\n",
    "import numpy as np\n",
    "import itertools\n",
    "from matplotlib.collections import LineCollection\n",
    "import matplotlib.pyplot as plt\n",
    "from IPython.display import clear_output"
   ],
   "metadata": {
    "id": "tZEEW-PSfHhe"
   },
   "execution_count": 6,
   "outputs": []
  },
  {
   "cell_type": "code",
   "execution_count": 7,
   "metadata": {
    "id": "qAdRyb3tc6RT"
   },
   "outputs": [],
   "source": [
    "class ElasticNet:\n",
    "    def __init__(self, cities, alpha=0.2, beta=2.0, k=0.2,\n",
    "                 k_update_value=0.99, k_update_period=25, eps=0.01,\n",
    "                 max_iterations=15000, num_neurons_factor=3, radius=0.1):\n",
    "        # переменные\n",
    "        self._weights = None\n",
    "        self._worst_dist = None\n",
    "        self._dist2 = None\n",
    "        self._delta = None\n",
    "        self._num_iter = 0\n",
    "        self._k = k                             # \"эластичность\" сети, со временем уменьшается значение\n",
    "\n",
    "        # константы\n",
    "        self._cities = cities\n",
    "        self._alpha = alpha                     # коэффициент, который приоритезирует сокращение расстояния между сетью и городами\n",
    "        self._beta = beta                       # коэффициент, который приоритезирует сокращение длины сети\n",
    "        self._k_update_value = k_update_value   # скорость уменьшения параметра k\n",
    "        self._k_update_period = k_update_period # периодичность с которой k уменьшается\n",
    "        self._eps = eps                         # параметр остановки\n",
    "        self._max_iterations = max_iterations   # параметр остановки\n",
    "        self._radius = radius                   # радиус начального круга\n",
    "        self._num_neurons = int(num_neurons_factor * self._cities.shape[0])  # количество точек в сети\n",
    "\n",
    "        # создание начальной сети\n",
    "        theta = np.linspace(0, 2 * math.pi, self._num_neurons, False)\n",
    "        centroid = self._cities.mean(axis=0)\n",
    "        self._neurons = np.vstack((np.cos(theta), np.sin(theta)))\n",
    "        self._neurons *= self._radius\n",
    "        self._neurons += centroid[:, np.newaxis]\n",
    "        self._neurons = self._neurons.transpose()\n",
    "\n",
    "    def iteration(self):\n",
    "        self._num_iter += 1\n",
    "        # уменьшение k по ходу итераций\n",
    "        if self._num_iter % self._k_update_period == 0:\n",
    "            self._k = max(0.01, self._k_update_value * self._k)\n",
    "\n",
    "        # обновление весов\n",
    "        # матрица расстояний(пара x и y) между нейронами сети и городами(города*нейроны)\n",
    "        self._delta = self._cities[:, np.newaxis] - self._neurons\n",
    "        # матрица расстояний между нейронами сети и городами(города*нейроны)\n",
    "        self._dist2 = (self._delta ** 2).sum(axis=2)\n",
    "        # максимальное расстояние до ближайшего нейрона\n",
    "        self._worst_dist = np.sqrt(self._dist2.min(axis=1).max())\n",
    "        # гауссовская функция\n",
    "        self._weights = np.exp(-self._dist2 / (2 * (self._k ** 2)))\n",
    "        # нормализация весов\n",
    "        self._weights /= self._weights.sum(axis=1)[:, np.newaxis]\n",
    "\n",
    "        # обновление нейронов сети\n",
    "\n",
    "        # вычисление силы для уменьшения расстояния между городами и нейронами\n",
    "        distance = np.array(\n",
    "            [np.dot(self._weights[:, i],\n",
    "                    self._delta[:, i]) for i in range(self._num_neurons)])\n",
    "        # вычисление силы для уменьшения пути\n",
    "        length = np.concatenate((\n",
    "            [self._neurons[1] - 2 * self._neurons[0]\n",
    "             + self._neurons[self._num_neurons - 1]],\n",
    "\n",
    "            [(self._neurons[i + 1]\n",
    "              - 2 * self._neurons[i]\n",
    "              + self._neurons[i - 1])\n",
    "             for i in range(1, self._num_neurons - 1)],\n",
    "\n",
    "            [self._neurons[0]\n",
    "             - 2 * self._neurons[self._num_neurons - 1]\n",
    "             + self._neurons[self._num_neurons - 2]]))\n",
    "        self._neurons += self._alpha * distance + self._beta * self._k * length\n",
    "\n",
    "        return self._worst_dist >= self._eps and self._num_iter < self._max_iterations"
   ]
  },
  {
   "cell_type": "markdown",
   "source": [
    "Теперь перейдем к визуализации алгоритма."
   ],
   "metadata": {
    "id": "rGHDdE463SL5"
   }
  },
  {
   "cell_type": "code",
   "execution_count": 8,
   "metadata": {
    "id": "kemZbuA1i4G1"
   },
   "outputs": [],
   "source": [
    "def draw(cities, neurons):\n",
    "\n",
    "    def _pairwise(iterable):\n",
    "      a, b = itertools.tee(iterable)\n",
    "      next(b, None)\n",
    "      return zip(a, b)\n",
    "\n",
    "    figure = plt.figure()\n",
    "    figure.gca().axison = False\n",
    "    # отрисовка городов\n",
    "    figure.gca().scatter(cities[:, 0], cities[:, 1], s=15, color='black')\n",
    "    # отрисовка сети\n",
    "    edges = list(_pairwise(itertools.chain(range(len(neurons)), [0])))\n",
    "    edge_collection = LineCollection(neurons[edges], edgecolor='green')\n",
    "    figure.gca().add_collection(edge_collection)\n",
    "    figure.gca().scatter(neurons[:, 0], neurons[:, 1], s=3, color='green')\n",
    "    plt.show()"
   ]
  },
  {
   "cell_type": "code",
   "execution_count": 9,
   "metadata": {
    "id": "Y_F0_-WciC5w"
   },
   "outputs": [],
   "source": [
    "cities = [\n",
    "    (156, 259),\n",
    "    (135, 255),\n",
    "    (129, 257),\n",
    "    (143, 214),\n",
    "    (152, 263),\n",
    "    (167, 241),\n",
    "    (121, 236),\n",
    "    (159, 213),\n",
    "    (124, 217),\n",
    "    (146, 215),\n",
    "    (165, 208),\n",
    "    (145, 205),\n",
    "    (157, 195),\n",
    "    (147, 236),\n",
    "    (163, 236),\n",
    "    (146, 237),\n",
    "    (126, 186),\n",
    "    (154, 186),\n",
    "    (136, 186),\n",
    "    (165, 196),\n",
    "    (147, 243),\n",
    "    (160, 247)\n",
    "]\n",
    "\n",
    "cities =  np.array(cities, dtype=float)\n",
    "cities = (cities - cities.min(axis=0)) / (cities.max(axis=0) - cities.min(axis=0))\n",
    "\n",
    "elastic = ElasticNet(cities)"
   ]
  },
  {
   "cell_type": "code",
   "execution_count": 10,
   "metadata": {
    "colab": {
     "base_uri": "https://localhost:8080/",
     "height": 406
    },
    "id": "R1u7Z4SndAvm",
    "outputId": "ea6d77bd-d466-418f-d001-037d744f8f6e"
   },
   "outputs": [
    {
     "output_type": "display_data",
     "data": {
      "text/plain": [
       "<Figure size 640x480 with 1 Axes>"
      ],
      "image/png": "[encoded data removed]"
     },
     "metadata": {}
    }
   ],
   "source": [
    "while elastic.iteration():\n",
    "    num_iter = elastic._num_iter - 1\n",
    "    if num_iter % 100 == 0:\n",
    "\n",
    "        draw(cities, elastic._neurons)\n",
    "        clear_output(wait=True)\n",
    "\n",
    "\n",
    "draw(cities, elastic._neurons)"
   ]
  }
 ],
 "metadata": {
  "colab": {
   "provenance": []
  },
  "kernelspec": {
   "display_name": "Python 3",
   "name": "python3"
  },
  "language_info": {
   "name": "python"
  }
 },
 "nbformat": 4,
 "nbformat_minor": 0
}
